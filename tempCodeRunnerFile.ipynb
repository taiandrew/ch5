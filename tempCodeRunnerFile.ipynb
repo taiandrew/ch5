    ## complete the code for other criteria 
